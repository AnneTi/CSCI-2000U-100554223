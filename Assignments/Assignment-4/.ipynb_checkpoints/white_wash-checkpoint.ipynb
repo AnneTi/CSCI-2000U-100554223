{
 "cells": [
  {
   "cell_type": "code",
   "execution_count": 27,
   "metadata": {
    "collapsed": false
   },
   "outputs": [
    {
     "name": "stdout",
     "output_type": "stream",
     "text": [
      "Before White Wash\n",
      "[[ 0.68166353  0.33083063  0.7707101 ]\n",
      " [ 0.46362607  0.0737376   0.8629911 ]\n",
      " [ 0.00614469  0.69902199  0.72943855]\n",
      " [ 0.52874934  0.09631111  0.42349784]\n",
      " [ 0.66134564  0.80295906  0.62939569]\n",
      " [ 0.83453843  0.28943351  0.00152967]\n",
      " [ 0.31238327  0.94692232  0.43693412]\n",
      " [ 0.0175447   0.05319403  0.6778294 ]\n",
      " [ 0.4375726   0.79035655  0.31759947]\n",
      " [ 0.82427655  0.42046727  0.42573709]\n",
      " [ 0.26092688  0.08473943  0.77909734]\n",
      " [ 0.98858575  0.17024139  0.16021999]\n",
      " [ 0.43370539  0.18947665  0.5349285 ]\n",
      " [ 0.03948675  0.82416888  0.63502575]\n",
      " [ 0.47788564  0.21051148  0.33380619]]\n",
      "After White Wash\n",
      "[[ 0.84083176  0.66541531  0.88535505]\n",
      " [ 0.73181303  0.5368688   0.93149555]\n",
      " [ 0.50307234  0.84951099  0.86471927]\n",
      " [ 0.76437467  0.54815555  0.71174892]\n",
      " [ 0.83067282  0.90147953  0.81469785]\n",
      " [ 0.91726921  0.64471675  0.50076484]\n",
      " [ 0.65619163  0.97346116  0.71846706]\n",
      " [ 0.50877235  0.52659702  0.8389147 ]\n",
      " [ 0.7187863   0.89517827  0.65879974]\n",
      " [ 0.91213827  0.71023364  0.71286854]\n",
      " [ 0.26092688  0.08473943  0.77909734]\n",
      " [ 0.98858575  0.17024139  0.16021999]\n",
      " [ 0.43370539  0.18947665  0.5349285 ]\n",
      " [ 0.03948675  0.82416888  0.63502575]\n",
      " [ 0.47788564  0.21051148  0.33380619]]\n"
     ]
    }
   ],
   "source": [
    "#Anne Tissera\n",
    "#100554223\n",
    "\n",
    "import matplotlib.pyplot as plt\n",
    "import numpy as np\n",
    "import random as rnd\n",
    "\n",
    "#whiteWash function\n",
    "def WhiteWash():\n",
    "    n = 15\n",
    "    a = []\n",
    "    b = []\n",
    "    c = []\n",
    "\n",
    "    print ('Before White Wash')\n",
    "    for x in range (0,n):\n",
    "        \n",
    "        a.append(rnd.uniform(0,1))\n",
    "        b.append(rnd.uniform(0,1))\n",
    "        c.append(rnd.uniform(0,1))\n",
    "    \n",
    "    abc = np.asarray((a,b,c))\n",
    "    array = np.transpose(abc)\n",
    "    \n",
    "    print (array)\n",
    "    \n",
    "    print ('After White Wash')\n",
    "    \n",
    "    for i in range (0,10):\n",
    "          \n",
    "        array[:][:][i] = ((array[:][:][i]+1)/2)\n",
    "        \n",
    "    return array\n",
    "\n",
    "new_array = WhiteWash()\n",
    "print (new_array)"
   ]
  },
  {
   "cell_type": "code",
   "execution_count": null,
   "metadata": {
    "collapsed": true
   },
   "outputs": [],
   "source": []
  }
 ],
 "metadata": {
  "kernelspec": {
   "display_name": "Python 3",
   "language": "python",
   "name": "python3"
  },
  "language_info": {
   "codemirror_mode": {
    "name": "ipython",
    "version": 3
   },
   "file_extension": ".py",
   "mimetype": "text/x-python",
   "name": "python",
   "nbconvert_exporter": "python",
   "pygments_lexer": "ipython3",
   "version": "3.4.3"
  }
 },
 "nbformat": 4,
 "nbformat_minor": 0
}
