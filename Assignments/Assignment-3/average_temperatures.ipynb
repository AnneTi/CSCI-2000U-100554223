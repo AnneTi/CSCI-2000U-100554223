{
 "cells": [
  {
   "cell_type": "code",
   "execution_count": 3,
   "metadata": {
    "collapsed": false
   },
   "outputs": [
    {
     "ename": "SyntaxError",
     "evalue": "invalid syntax (<ipython-input-3-f516e49d6e2e>, line 24)",
     "output_type": "error",
     "traceback": [
      "\u001b[1;36m  File \u001b[1;32m\"<ipython-input-3-f516e49d6e2e>\"\u001b[1;36m, line \u001b[1;32m24\u001b[0m\n\u001b[1;33m    axes = plt.gca()axes.set_xlim(0,11)axes.set_ylim(-10.0, 30.0)axes.set_xtickaxes([])axes.set_ytickaxes([])\u001b[0m\n\u001b[1;37m                       ^\u001b[0m\n\u001b[1;31mSyntaxError\u001b[0m\u001b[1;31m:\u001b[0m invalid syntax\n"
     ]
    }
   ],
   "source": [
    "#Anne Tissera\n",
    "#100554223\n",
    "\n",
    "import numpy as np\n",
    "import matplotlib.pyplot as plt\n",
    "\n",
    "%matplotlib inline\n",
    "\n",
    "#size of figure\n",
    "plt.figure(figsize=(12,12))\n",
    "\n",
    "#opens the temperature data files for each destination\n",
    "mtl_t.dat = np.opendata(\"montreal_temperature_2012.dat\")\n",
    "tor_t.dat = np.opendata(\"toronto_temperature_2012.dat\")\n",
    "van_t.dat = np.opendata(\"vancouver_temperature_2012.dat\")\n",
    "\n",
    "#defines the numbers for the x-axis\n",
    "x_axis = [0, 1, 2, 3, 4, 5, 6, 7, 8, 9, 10, 11]\n",
    "\n",
    "#defines the names for each month in short form\n",
    "month_axes = ['Jan', 'Feb', 'Mar', 'Apr', 'May', 'Jun', 'Jul', 'Aug', 'Sept', 'Oct', 'Nov', 'Dec']\n",
    "\n",
    "#constructs a grid according to specific requirements\n",
    "axes = plt.gca()axes.set_xlim(0,11)axes.set_ylim(-10.0, 30.0)axes.set_xtickaxes([])axes.set_ytickaxes([])\n",
    "\n",
    "#for each destination, a bar is defined by the size and colour\n",
    "plt.plot(mtl_t.data, linewidth=3.0, color= 'blue')\n",
    "plt.plot(tor_t.dat, linewidth=3.0, color= 'yellow')\n",
    "plt.plot(van_t.dat, linewidth=3.0, color= 'orange')\n",
    "\n",
    "#writes a title for the graph\n",
    "plt.title('2012 average monthly temperatures (100554223)')\n",
    "\n",
    "#writes a title for the y-axis\n",
    "plt.yaxes('2012 Average Monthly Temperature (Celcius)')\n",
    "\n",
    "#writes a title for the x-axis\n",
    "plt.xaxes('Month')\n",
    "\n",
    "#plt.xticks function defines the following variables, x_axes and month_axes\n",
    "plt.xticks(x_axes, month_axes)\n",
    "\n",
    "#builds a legend for the graph based on the given requirements \n",
    "legend = plt.legend((loc= 'upper right')\n",
    "\n",
    "#displays plot on screen \n",
    "plt.show\n"
   ]
  },
  {
   "cell_type": "code",
   "execution_count": null,
   "metadata": {
    "collapsed": true
   },
   "outputs": [],
   "source": []
  },
  {
   "cell_type": "code",
   "execution_count": null,
   "metadata": {
    "collapsed": true
   },
   "outputs": [],
   "source": []
  }
 ],
 "metadata": {
  "kernelspec": {
   "display_name": "Python 3",
   "language": "python",
   "name": "python3"
  },
  "language_info": {
   "codemirror_mode": {
    "name": "ipython",
    "version": 3
   },
   "file_extension": ".py",
   "mimetype": "text/x-python",
   "name": "python",
   "nbconvert_exporter": "python",
   "pygments_lexer": "ipython3",
   "version": "3.4.3"
  }
 },
 "nbformat": 4,
 "nbformat_minor": 0
}
