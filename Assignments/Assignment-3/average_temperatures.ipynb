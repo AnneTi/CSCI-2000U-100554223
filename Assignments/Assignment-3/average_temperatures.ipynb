{
 "cells": [
  {
   "cell_type": "code",
   "execution_count": 22,
   "metadata": {
    "collapsed": false
   },
   "outputs": [
    {
     "ename": "AttributeError",
     "evalue": "'module' object has no attribute 'opendat'",
     "output_type": "error",
     "traceback": [
      "\u001b[1;31m---------------------------------------------------------------------------\u001b[0m",
      "\u001b[1;31mAttributeError\u001b[0m                            Traceback (most recent call last)",
      "\u001b[1;32m<ipython-input-22-3f7476b4e030>\u001b[0m in \u001b[0;36m<module>\u001b[1;34m()\u001b[0m\n\u001b[0;32m     11\u001b[0m \u001b[1;33m\u001b[0m\u001b[0m\n\u001b[0;32m     12\u001b[0m \u001b[1;31m#opens the temperature data files for each destination\u001b[0m\u001b[1;33m\u001b[0m\u001b[1;33m\u001b[0m\u001b[0m\n\u001b[1;32m---> 13\u001b[1;33m \u001b[0mmtl_t\u001b[0m\u001b[1;33m.\u001b[0m\u001b[0mdat\u001b[0m \u001b[1;33m=\u001b[0m \u001b[0mnp\u001b[0m\u001b[1;33m.\u001b[0m\u001b[0mopendat\u001b[0m\u001b[1;33m(\u001b[0m\u001b[1;34m\"montreal_temperature_2012.dat\"\u001b[0m\u001b[1;33m)\u001b[0m\u001b[1;33m\u001b[0m\u001b[0m\n\u001b[0m\u001b[0;32m     14\u001b[0m \u001b[0mtor_t\u001b[0m\u001b[1;33m.\u001b[0m\u001b[0mdat\u001b[0m \u001b[1;33m=\u001b[0m \u001b[0mnp\u001b[0m\u001b[1;33m.\u001b[0m\u001b[0mopendat\u001b[0m\u001b[1;33m(\u001b[0m\u001b[1;34m\"toronto_temperature_2012.dat\"\u001b[0m\u001b[1;33m)\u001b[0m\u001b[1;33m\u001b[0m\u001b[0m\n\u001b[0;32m     15\u001b[0m \u001b[0mvan_t\u001b[0m\u001b[1;33m.\u001b[0m\u001b[0mdat\u001b[0m \u001b[1;33m=\u001b[0m \u001b[0mnp\u001b[0m\u001b[1;33m.\u001b[0m\u001b[0mopendat\u001b[0m\u001b[1;33m(\u001b[0m\u001b[1;34m\"vancouver_temperature_2012.dat\"\u001b[0m\u001b[1;33m)\u001b[0m\u001b[1;33m\u001b[0m\u001b[0m\n",
      "\u001b[1;31mAttributeError\u001b[0m: 'module' object has no attribute 'opendat'"
     ]
    },
    {
     "data": {
      "text/plain": [
       "<matplotlib.figure.Figure at 0x7f41d167ec88>"
      ]
     },
     "metadata": {},
     "output_type": "display_data"
    }
   ],
   "source": [
    "#Anne Tissera\n",
    "#100554223\n",
    "\n",
    "import numpy as np\n",
    "import matplotlib.pyplot as plt\n",
    "\n",
    "%matplotlib inline\n",
    "\n",
    "#size of figure\n",
    "plt.figure(figsize=(12,12))\n",
    "\n",
    "#opens the temperature data files for each destination\n",
    "mtl_t.dat = np.opendat(\"montreal_temperature_2012.dat\")\n",
    "tor_t.dat = np.opendat(\"toronto_temperature_2012.dat\")\n",
    "van_t.dat = np.opendat(\"vancouver_temperature_2012.dat\")\n",
    "\n",
    "#defines the numbers for the x-axis\n",
    "x_axis = [0, 1, 2, 3, 4, 5, 6, 7, 8, 9, 10, 11]\n",
    "\n",
    "#defines the names for each month in short form\n",
    "month_axes = ['Jan', 'Feb', 'Mar', 'Apr', 'May', 'Jun', 'Jul', 'Aug', 'Sept', 'Oct', 'Nov', 'Dec']\n",
    "\n",
    "#constructs a grid according to the given requirements\n",
    "axes = plt.gca().set_xlim(0,11).set_ylim(-10.0, 30.0).set_xtickaxes([]).set_ytickaxes([])\n",
    "\n",
    "#for each destination, a bar is defined by the size and colour\n",
    "plt.gca(mtl_t.data, linewidth=3.0, color= 'blue')\n",
    "plt.gca(tor_t.dat, linewidth=3.0, color= 'yellow')\n",
    "plt.gca(van_t.dat, linewidth=3.0, color= 'orange')\n",
    "\n",
    "#writes a title for the graph\n",
    "plt.title('2012 average monthly temperatures (100554223)')\n",
    "\n",
    "#writes a title for the y-axis\n",
    "plt.yaxes('2012 Average Monthly Temperature (Celcius)')\n",
    "\n",
    "#writes a title for the x-axis\n",
    "plt.xaxes('Month')\n",
    "\n",
    "#plt.xticks function defines the following variables, x_axes and month_axes\n",
    "plt.xticks(x_axes, month_axes)\n",
    "\n",
    "#builds a legend for the graph based on the given requirements \n",
    "legend = plt.legend(loc('middle'))\n",
    "\n",
    "#displays plot on screen \n",
    "plt.show\n"
   ]
  },
  {
   "cell_type": "code",
   "execution_count": null,
   "metadata": {
    "collapsed": true
   },
   "outputs": [],
   "source": []
  },
  {
   "cell_type": "code",
   "execution_count": null,
   "metadata": {
    "collapsed": true
   },
   "outputs": [],
   "source": []
  }
 ],
 "metadata": {
  "kernelspec": {
   "display_name": "Python 3",
   "language": "python",
   "name": "python3"
  },
  "language_info": {
   "codemirror_mode": {
    "name": "ipython",
    "version": 3
   },
   "file_extension": ".py",
   "mimetype": "text/x-python",
   "name": "python",
   "nbconvert_exporter": "python",
   "pygments_lexer": "ipython3",
   "version": "3.4.3"
  }
 },
 "nbformat": 4,
 "nbformat_minor": 0
}
