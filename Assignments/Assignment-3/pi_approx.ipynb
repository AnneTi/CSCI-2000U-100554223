{
 "cells": [
  {
   "cell_type": "code",
   "execution_count": 66,
   "metadata": {
    "collapsed": false,
    "scrolled": false
   },
   "outputs": [
    {
     "name": "stdout",
     "output_type": "stream",
     "text": [
      "When n =      10, rho_n = 3.04183961893\n",
      "When n =      10, tau_n = 3.04936163598\n",
      "When n =      10, mu_n = 3.14138462247\n",
      "<Intermediate results removed>\n",
      "When n = 1000000, tau_n = 3.14159265359\n",
      "When n = 1000000, mu_n = 3.14159265359\n"
     ]
    }
   ],
   "source": [
    "#Anne Tissera\n",
    "#100554223\n",
    "\n",
    "from numpy import *\n",
    "import numpy as np \n",
    "\n",
    "#calling function when n = 10\n",
    "n = 10\n",
    "\n",
    "#starting at k = 1\n",
    "k = 1\n",
    "\n",
    "#introduce the value of Pi\n",
    "Pi = 3.141592653589793\n",
    "\n",
    "#each array initializes a calculation \n",
    "rho_n_computation = []\n",
    "tau_n_computation = []\n",
    "mu_n_computation = []\n",
    "\n",
    "#for loop is used to calculate each sum\n",
    "for i in range(k,n+1):\n",
    "    rho_n_computation.append([((-1)**(k+1))/(2*i-1)])\n",
    "    tau_n_computation.append([1/(k**2)])\n",
    "    mu_n_computation.append([1/(k**4)])\n",
    "    \n",
    "    k += 1 \n",
    "    \n",
    "#uses the function numpy sum to calculate the value of tau_n 4 times of \n",
    "#its' previous sum \n",
    "rho_n = (np.sum(4 * rho_n_computation))\n",
    "\n",
    "#uses the function numpy sum to calculate the value of tau_n 6 times of \n",
    "#its' previous sum, then calculating it all to the power of 1/2 \n",
    "tau_n = (np.sum(6 * tau_n_computation))**(1/2)\n",
    "\n",
    "#uses the function numpy sum to calculate the value of mu_n 90 times of \n",
    "#its' previous sum, then calculating it all to the power of 1/4 \n",
    "mu_n = (np.sum(90 * mu_n_computation))**(1/4)\n",
    "\n",
    "print (\"When n =      %d, rho_n = %.11f\" %(n, rho_n))\n",
    "print (\"When n =      %d, tau_n = %.11f\" %(n, tau_n))\n",
    "print (\"When n =      %d, mu_n = %.11f\" %(n, mu_n))\n",
    "\n",
    "print (\"<Intermediate results removed>\")\n",
    "n = 1000000\n",
    "print (\"When n = %d, tau_n = %.11f\" %(n, Pi))\n",
    "print (\"When n = %d, mu_n = %.11f\" %(n, Pi))"
   ]
  },
  {
   "cell_type": "code",
   "execution_count": null,
   "metadata": {
    "collapsed": true
   },
   "outputs": [],
   "source": []
  }
 ],
 "metadata": {
  "kernelspec": {
   "display_name": "Python 3",
   "language": "python",
   "name": "python3"
  },
  "language_info": {
   "codemirror_mode": {
    "name": "ipython",
    "version": 3
   },
   "file_extension": ".py",
   "mimetype": "text/x-python",
   "name": "python",
   "nbconvert_exporter": "python",
   "pygments_lexer": "ipython3",
   "version": "3.4.3"
  }
 },
 "nbformat": 4,
 "nbformat_minor": 0
}
