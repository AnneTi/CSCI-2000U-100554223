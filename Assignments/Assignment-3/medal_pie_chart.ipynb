{
 "cells": [
  {
   "cell_type": "code",
   "execution_count": 6,
   "metadata": {
    "collapsed": false
   },
   "outputs": [],
   "source": [
    "#Anne Tissera\n",
    "#100554223\n",
    "\n",
    "#imports the required documentation\n",
    "import matplotlib.pyplot as plt\n",
    "\n",
    "#size of plot initialized\n",
    "fig = plt.figure(figsize = (11,11))\n",
    "\n",
    "#labels the names of countries participating in the Olympics\n",
    "labels = 'USA', 'CHN', 'GBR', 'RUS','KOR', 'GER', 'FRA', 'ITA', 'HUN', 'AUS', 'OTHER'\n",
    "\n",
    "#For each country, a fraction was calculated by taking the country's gold medal total\n",
    "#and dividing it by the total number of gold medals, 302\n",
    "fractions = [15.2317881, 12.5827815, 9.602649, 7.9470199, 4.3046358, 3.6423841, 3.6423841, 2.6490066, 2.6490066, 2.3178808, 35.4304636]\n",
    " \n",
    "#defines a color for each country\n",
    "colors = ['blue', 'yellow', 'red', 'green', 'purple', 'pink', 'teal', 'crimson', 'orange', 'yellowgreen', 'hotpink']\n",
    "\n",
    "#this function plots a pie chart based on the given data\n",
    "plt.pie(fractions, labels = labels, autopct= '%.2f%%', colors = colors)\n",
    "\n",
    "#this function names the title of the pie chart\n",
    "plt.title('2012 Summer Olympic Games')\n",
    "\n",
    "#this function displays the pie chart onto the screen\n",
    "plt.show()\n",
    "\n"
   ]
  },
  {
   "cell_type": "code",
   "execution_count": null,
   "metadata": {
    "collapsed": true
   },
   "outputs": [],
   "source": []
  },
  {
   "cell_type": "code",
   "execution_count": null,
   "metadata": {
    "collapsed": true
   },
   "outputs": [],
   "source": []
  }
 ],
 "metadata": {
  "kernelspec": {
   "display_name": "Python 3",
   "language": "python",
   "name": "python3"
  },
  "language_info": {
   "codemirror_mode": {
    "name": "ipython",
    "version": 3
   },
   "file_extension": ".py",
   "mimetype": "text/x-python",
   "name": "python",
   "nbconvert_exporter": "python",
   "pygments_lexer": "ipython3",
   "version": "3.4.3"
  }
 },
 "nbformat": 4,
 "nbformat_minor": 0
}
